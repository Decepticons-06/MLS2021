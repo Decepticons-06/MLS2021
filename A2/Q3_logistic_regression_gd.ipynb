{
 "cells": [
  {
   "cell_type": "code",
   "execution_count": 64,
   "metadata": {},
   "outputs": [],
   "source": [
    "import numpy as np\n",
    "from matplotlib import pyplot as plt\n",
    "from sklearn.preprocessing import StandardScaler\n",
    "from sklearn.linear_model import LogisticRegression\n",
    "from sklearn.datasets import make_classification\n",
    "from sklearn.model_selection import train_test_split\n",
    "from sklearn.datasets import load_breast_cancer\n",
    "from sklearn.metrics import accuracy_score"
   ]
  },
  {
   "cell_type": "code",
   "execution_count": 65,
   "metadata": {},
   "outputs": [],
   "source": [
    "# load load_breast_cancer\n",
    "dataset = load_breast_cancer()\n",
    "\n",
    "#creating input dataset\n",
    "in_dex1 = np.where(dataset[\"feature_names\"]==\"mean area\")[0][0]\n",
    "in_dex2 = np.where(dataset[\"feature_names\"]==\"mean concave points\")[0][0]\n",
    "\n",
    "X_area = dataset[\"data\"][:,in_dex1]\n",
    "X_concave_points = dataset[\"data\"][:,in_dex2]\n",
    "\n",
    "X = np.array([X_area, X_concave_points]).T\n",
    "\n",
    "#creatinh output dataset\n",
    "out_dex1 = np.where(dataset[\"target_names\"]==\"malignant\")[0][0]\n",
    "out_dex2 = np.where(dataset[\"target_names\"]==\"benign\")[0][0]\n",
    "\n",
    "y_malignant = dataset[\"target\"]==out_dex1\n",
    "y_benign = dataset[\"target\"]==out_dex2\n",
    "\n",
    "y = (1 * y_malignant + -1 * y_benign)"
   ]
  },
  {
   "cell_type": "code",
   "execution_count": 66,
   "metadata": {},
   "outputs": [],
   "source": [
    "# normalize (use StandardScaler if you wish)\n",
    "norm = StandardScaler()\n",
    "X = norm.fit_transform(X)"
   ]
  },
  {
   "cell_type": "code",
   "execution_count": 67,
   "metadata": {},
   "outputs": [],
   "source": [
    "# partition with test size 0.3\n",
    "X_train, X_test, y_train, y_test = train_test_split(X, y, test_size = 0.3)"
   ]
  },
  {
   "cell_type": "code",
   "execution_count": 68,
   "metadata": {},
   "outputs": [
    {
     "data": {
      "image/png": "[encoded data removed]",
      "text/plain": [
       "<Figure size 432x288 with 1 Axes>"
      ]
     },
     "metadata": {
      "needs_background": "light"
     },
     "output_type": "display_data"
    }
   ],
   "source": [
    "# fit logistic regression and draw ROC curve\n",
    "model = LogisticRegression(C=1e5, solver='lbfgs')\n",
    "log_reg = model.fit(X_train, y_train)\n",
    "\n",
    "y_predict = log_reg.predict(X_test)\n",
    "\n",
    "fpr, tpr, _ = metrics.roc_curve(y_test, y_predict)\n",
    "\n",
    "plt.plot(fpr, tpr, )\n",
    "plt.xlabel('False positive rate')\n",
    "plt.ylabel('True positive rate')\n",
    "plt.title('ROC curve ')\n",
    "plt.show()"
   ]
  },
  {
   "cell_type": "code",
   "execution_count": 69,
   "metadata": {},
   "outputs": [
    {
     "data": {
      "image/png": "[encoded data removed]",
      "text/plain": [
       "<Figure size 432x288 with 1 Axes>"
      ]
     },
     "metadata": {
      "needs_background": "light"
     },
     "output_type": "display_data"
    }
   ],
   "source": [
    "y_predict = log_reg.predict_log_proba(X_test)[:,1]\n",
    "\n",
    "fpr, tpr, _ = metrics.roc_curve(y_test, y_predict)\n",
    "\n",
    "plt.plot(fpr, tpr, )\n",
    "plt.xlabel('False positive rate')\n",
    "plt.ylabel('True positive rate')\n",
    "plt.title('ROC curve ')\n",
    "plt.show()"
   ]
  },
  {
   "cell_type": "code",
   "execution_count": 71,
   "metadata": {},
   "outputs": [
    {
     "name": "stdout",
     "output_type": "stream",
     "text": [
      "0.8888888888888888\n",
      "0.9005847953216374\n",
      "0.8947368421052632\n",
      "0.8947368421052632\n",
      "0.8947368421052632\n"
     ]
    }
   ],
   "source": [
    "# What happens to the \"score\" when C = 1, 1/10, 150, 100, 1000?\n",
    "\n",
    "print(LogisticRegression(C=1, solver='lbfgs').fit(X_train, y_train).score(X_test, y_test))\n",
    "print(LogisticRegression(C=1/10, solver='lbfgs').fit(X_train, y_train).score(X_test, y_test))\n",
    "print(LogisticRegression(C=150, solver='lbfgs').fit(X_train, y_train).score(X_test, y_test))\n",
    "print(LogisticRegression(C=100, solver='lbfgs').fit(X_train, y_train).score(X_test, y_test))\n",
    "print(LogisticRegression(C=1000, solver='lbfgs').fit(X_train, y_train).score(X_test, y_test))"
   ]
  }
 ],
 "metadata": {
  "kernelspec": {
   "display_name": "Python 3",
   "language": "python",
   "name": "python3"
  },
  "language_info": {
   "codemirror_mode": {
    "name": "ipython",
    "version": 3
   },
   "file_extension": ".py",
   "mimetype": "text/x-python",
   "name": "python",
   "nbconvert_exporter": "python",
   "pygments_lexer": "ipython3",
   "version": "3.7.10"
  }
 },
 "nbformat": 4,
 "nbformat_minor": 4
}
