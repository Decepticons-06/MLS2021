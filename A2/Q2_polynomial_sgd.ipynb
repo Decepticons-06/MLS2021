{
 "cells": [
  {
   "cell_type": "code",
   "execution_count": 2,
   "metadata": {},
   "outputs": [],
   "source": [
    "import numpy as np\n",
    "import matplotlib.pyplot as plt\n",
    "from sklearn.model_selection import train_test_split"
   ]
  },
  {
   "cell_type": "code",
   "execution_count": 3,
   "metadata": {},
   "outputs": [
    {
     "data": {
      "text/plain": [
       "<matplotlib.collections.PathCollection at 0x7fdc4219cf90>"
      ]
     },
     "execution_count": 3,
     "metadata": {},
     "output_type": "execute_result"
    },
    {
     "data": {
      "image/png": "[encoded data removed]",
      "text/plain": [
       "<Figure size 432x288 with 1 Axes>"
      ]
     },
     "metadata": {
      "needs_background": "light"
     },
     "output_type": "display_data"
    }
   ],
   "source": [
    "# suppose we have received the following data from some sensor\n",
    "data_x = np.linspace(1.0, 10.0, 100)[:, np.newaxis]\n",
    "data_y = np.sin(data_x) + 0.1 * np.power(data_x, 2) + 0.5 * np.random.randn(100, 1)\n",
    "\n",
    "plt.scatter(data_x, data_y)"
   ]
  },
  {
   "cell_type": "code",
   "execution_count": 4,
   "metadata": {},
   "outputs": [],
   "source": [
    "# fit a polynomial of order 6\n",
    "def polynomial_X(X, degree):\n",
    "    poly_X = np.ones(X.shape[0]).reshape(-1,1)\n",
    "    \n",
    "    for i in range(1,degree+1,1):\n",
    "        poly_X = np.append(poly_X, X.reshape(-1,1)**i, axis =1)\n",
    "    \n",
    "    return poly_X"
   ]
  },
  {
   "cell_type": "code",
   "execution_count": 5,
   "metadata": {},
   "outputs": [],
   "source": [
    "# Implement gradient computation and theta update \n",
    "def gradient_descent(X, y, itr, alpha):\n",
    "    theta = np.zeros(X.shape[1])\n",
    "    print(X.shape, theta.shape, y.shape)\n",
    "    for k in range(itr):\n",
    "        for i in range(X.shape[1]):\n",
    "            theta[i] = theta[i] - alpha*2*sum((np.inner(X, theta) - y[:,0]) * X[:,i])/(X.shape[0])\n",
    "    \n",
    "    return theta"
   ]
  },
  {
   "cell_type": "code",
   "execution_count": 6,
   "metadata": {},
   "outputs": [],
   "source": [
    "def Xy_normalization(X, y):\n",
    "    return (X - X.min())/(X.max() - X.min()), (y - y.min())/(y.max() - y.min())"
   ]
  },
  {
   "cell_type": "code",
   "execution_count": 17,
   "metadata": {},
   "outputs": [
    {
     "name": "stdout",
     "output_type": "stream",
     "text": [
      "(80, 7) (7,) (80, 1)\n"
     ]
    },
    {
     "data": {
      "text/plain": [
       "<matplotlib.collections.PathCollection at 0x7fdc3fd90690>"
      ]
     },
     "execution_count": 17,
     "metadata": {},
     "output_type": "execute_result"
    },
    {
     "data": {
      "image/png": "[encoded data removed]",
      "text/plain": [
       "<Figure size 432x288 with 1 Axes>"
      ]
     },
     "metadata": {
      "needs_background": "light"
     },
     "output_type": "display_data"
    }
   ],
   "source": [
    "X_norm, y_norm = Xy_normalization(data_x.copy(), data_y.copy())\n",
    "\n",
    "X_train, X_test, y_train, y_test = train_test_split(X_norm.copy(), y_norm.copy(), test_size = 0.2)\n",
    "\n",
    "theta = gradient_descent(polynomial_X(X_train.copy(), 6), y_train.copy(), 1000, 0.01)\n",
    "\n",
    "y_predict = polynomial_X(X_test, 6) @ theta\n",
    "\n",
    "plt.scatter(X_test, y_test, color = 'blue')\n",
    "plt.scatter(X_test, y_predict, color = 'red')"
   ]
  },
  {
   "cell_type": "code",
   "execution_count": 15,
   "metadata": {},
   "outputs": [],
   "source": [
    "# Call stochastic gradient descent in the main loop\n",
    "def stochastic_gd(X, y, alpha):\n",
    "    n = X.shape[0]\n",
    "    sample_size = 10\n",
    "    epochs = 1000\n",
    "    theta = np.zeros(X.shape[1])\n",
    "\n",
    "    for k in range(epochs): \n",
    "        idx = np.random.choice(n, sample_size, replace=False)\n",
    "    \n",
    "        X_sample = X[idx]\n",
    "        y_sample = y[idx]\n",
    "        \n",
    "        for i in range(X.shape[1]):\n",
    "            theta[i] = theta[i] - alpha*2*sum((np.inner(X_sample, theta) - y_sample[:,0]) * X_sample[:,i]) / X_sample.shape[0]\n",
    "    \n",
    "    return theta\n",
    "\n",
    "theta = stochastic_gd(polynomial_X(X_train.copy(), 6), y_train.copy(), 0.01)"
   ]
  },
  {
   "cell_type": "code",
   "execution_count": 16,
   "metadata": {},
   "outputs": [
    {
     "data": {
      "text/plain": [
       "<matplotlib.collections.PathCollection at 0x7fdc3fe326d0>"
      ]
     },
     "execution_count": 16,
     "metadata": {},
     "output_type": "execute_result"
    },
    {
     "data": {
      "image/png": "[encoded data removed]",
      "text/plain": [
       "<Figure size 432x288 with 1 Axes>"
      ]
     },
     "metadata": {
      "needs_background": "light"
     },
     "output_type": "display_data"
    }
   ],
   "source": [
    "# predict y_hat using test_x and theta \n",
    "y_predict = polynomial_X(X_test, 6) @ theta\n",
    "\n",
    "plt.scatter(X_test, y_test, color = 'blue')\n",
    "plt.scatter(X_test, y_predict, color = 'red')"
   ]
  }
 ],
 "metadata": {
  "kernelspec": {
   "display_name": "Python 3",
   "language": "python",
   "name": "python3"
  },
  "language_info": {
   "codemirror_mode": {
    "name": "ipython",
    "version": 3
   },
   "file_extension": ".py",
   "mimetype": "text/x-python",
   "name": "python",
   "nbconvert_exporter": "python",
   "pygments_lexer": "ipython3",
   "version": "3.7.10"
  }
 },
 "nbformat": 4,
 "nbformat_minor": 4
}
