{
 "cells": [
  {
   "cell_type": "code",
   "execution_count": 175,
   "metadata": {},
   "outputs": [],
   "source": [
    "import numpy as np\n",
    "import pandas as pd\n",
    "import matplotlib.pyplot as plt\n",
    "import house_sales_data as hsd\n",
    "from sklearn.model_selection import train_test_split"
   ]
  },
  {
   "cell_type": "code",
   "execution_count": 176,
   "metadata": {},
   "outputs": [
    {
     "name": "stdout",
     "output_type": "stream",
     "text": [
      "dict_keys(['price', 'area', 'beds', 'baths', 'condo', 'location'])\n"
     ]
    }
   ],
   "source": [
    "## Sacramento house price data; load\n",
    "data = hsd.house_sales_data() \n",
    "print(data.keys())\n",
    "\n",
    "## Get the target (i.e., price) and two features\n",
    "price = data[\"price\"]\n",
    "area = data[\"area\"]\n",
    "beds = data[\"beds\"]"
   ]
  },
  {
   "cell_type": "code",
   "execution_count": 177,
   "metadata": {},
   "outputs": [],
   "source": [
    "# Implement gradient descent (NOT SGD, just simple GD!)\n",
    "def gradient_descent(X, y, max_iteration, learning_rate):\n",
    "    m, n = X.shape\n",
    "    theta = np.zeros(n)\n",
    "    costs = []\n",
    "\n",
    "    for itr in range(max_iteration):\n",
    "        costs.append(sum((np.inner(X, theta) - y)**2)/m)\n",
    "        for i in range(X.shape[1]):\n",
    "            theta[i] = theta[i] - learning_rate*2*sum((np.inner(X, theta) - y)*X[:,i])/m\n",
    "    return theta, costs"
   ]
  },
  {
   "cell_type": "code",
   "execution_count": 178,
   "metadata": {},
   "outputs": [],
   "source": [
    "# Normalize data \n",
    "def normalize_data(X, y, normalize_cols):\n",
    "    min_X = X[:,normalize_cols].min(axis=0)\n",
    "    max_X = X[:,normalize_cols].max(axis=0)\n",
    "    min_y = y.min()\n",
    "    max_y = y.max()\n",
    "    \n",
    "    X[:,normalize_cols] = (X[:,normalize_cols]-min_X)/(max_X-min_X)\n",
    "    y = (y-min_y)/(max_y-min_y)\n",
    "    \n",
    "    return X, y, min_X, max_X, min_y, max_y"
   ]
  },
  {
   "cell_type": "code",
   "execution_count": 179,
   "metadata": {},
   "outputs": [],
   "source": [
    "# unnormalize theta\n",
    "def denormalize_theta(X, y, theta):\n",
    "    X, y, min_X, max_X, min_y, max_y = normalize_data(X, y, [True, True, False])\n",
    "    range_y = max_y-min_y\n",
    "    range_X = max_X-min_X\n",
    "\n",
    "    theta_hat = np.zeros(len(theta))\n",
    "    add = 0\n",
    "\n",
    "    for i in range(len(theta)-1):\n",
    "        theta_hat[i] = range_y/range_X[i]*theta[i]\n",
    "        add = add + theta_hat[i]*min_X[i]\n",
    "    theta_hat[-1] = theta[-1]*range_y+min_y-add\n",
    "    \n",
    "    return theta_hat"
   ]
  },
  {
   "cell_type": "code",
   "execution_count": 180,
   "metadata": {},
   "outputs": [],
   "source": [
    "# Implement an evaluation metric for regression\n",
    "def evaluation_metric(y,y_hat):\n",
    "    #return np.mean(sum((y - y_hat)**2))\n",
    "    return np.linalg.norm((y - y_hat)/len(y)**0.5)"
   ]
  },
  {
   "cell_type": "code",
   "execution_count": 181,
   "metadata": {},
   "outputs": [],
   "source": [
    "# Prepare data this way\n",
    "X = np.hstack((area[:,np.newaxis], beds[:,np.newaxis], np.ones(area.shape[0])[:,np.newaxis]))\n",
    "y = price\n",
    "\n",
    "X_train, X_test, y_train, y_test = train_test_split(X.copy(), y.copy(), test_size=0.2, random_state=42)\n",
    "X_norm, y_norm, min_X, max_X, min_y, max_y = normalize_data(X_train.copy(), y_train.copy(), [True, True, False])\n"
   ]
  },
  {
   "cell_type": "code",
   "execution_count": 182,
   "metadata": {},
   "outputs": [],
   "source": [
    "theta, costs = gradient_descent(X_norm.copy(), y_norm.copy(), 100, 1.0)\n",
    "#print(theta)"
   ]
  },
  {
   "cell_type": "code",
   "execution_count": 183,
   "metadata": {},
   "outputs": [
    {
     "data": {
      "text/plain": [
       "Text(0, 0.5, 'cost')"
      ]
     },
     "execution_count": 183,
     "metadata": {},
     "output_type": "execute_result"
    },
    {
     "data": {
      "image/png": "[encoded data removed]",
      "text/plain": [
       "<Figure size 432x288 with 1 Axes>"
      ]
     },
     "metadata": {
      "needs_background": "light"
     },
     "output_type": "display_data"
    }
   ],
   "source": [
    "# plot cost vs iterations \n",
    "plt.plot(np.arange(0,100), costs)\n",
    "plt.xlabel(\"iteration\")\n",
    "plt.ylabel(\"cost\")\n",
    "# note gradient descent return costs for all iterations"
   ]
  },
  {
   "cell_type": "code",
   "execution_count": 184,
   "metadata": {},
   "outputs": [
    {
     "name": "stdout",
     "output_type": "stream",
     "text": [
      "72.26490129664789\n",
      "72.24862726027973\n"
     ]
    }
   ],
   "source": [
    "# print evaluation metric for test set while \n",
    "theta_hat1 = denormalize_theta(X_train.copy(), y_train.copy(), gradient_descent(X_norm.copy(), y_norm.copy(), 500, 0.5)[0])\n",
    "y_predict1 = X_test @ theta_hat1\n",
    "print(evaluation_metric(y_test, y_predict1))\n",
    "\n",
    "theta_hat2 = denormalize_theta(X_train.copy(), y_train.copy(), gradient_descent(X_norm.copy(), y_norm.copy(), 2000, 0.5)[0])\n",
    "y_predict2 = X_test @ theta_hat2\n",
    "print(evaluation_metric(y_test, y_predict2))\n",
    "# changing max_iteration from 500 to 2000\n",
    "# Note the best value of evaluation metric you get"
   ]
  },
  {
   "cell_type": "code",
   "execution_count": 185,
   "metadata": {},
   "outputs": [],
   "source": [
    "# compare your solution with scikit-learn library\n",
    "from sklearn import linear_model\n",
    "\n",
    "X0_train, X0_test, y0_train, y0_test = train_test_split(np.array([area,beds]).T, price, test_size=0.2, random_state=42)"
   ]
  },
  {
   "cell_type": "code",
   "execution_count": 186,
   "metadata": {},
   "outputs": [],
   "source": [
    "# Create linear regression object\n",
    "from sklearn import linear_model"
   ]
  },
  {
   "cell_type": "code",
   "execution_count": 187,
   "metadata": {},
   "outputs": [
    {
     "name": "stdout",
     "output_type": "stream",
     "text": [
      "slope : [146.78409491 -16.30314601] , intercept:  50.054871861560656\n"
     ]
    }
   ],
   "source": [
    "# Train the model using the training sets\n",
    "lin_reg = linear_model.LinearRegression()\n",
    "lin_reg.fit(X0_train, y0_train)\n",
    "print('slope :',lin_reg.coef_,', intercept: ',lin_reg.intercept_)"
   ]
  },
  {
   "cell_type": "code",
   "execution_count": 188,
   "metadata": {},
   "outputs": [
    {
     "name": "stdout",
     "output_type": "stream",
     "text": [
      "72.24862725906654\n"
     ]
    }
   ],
   "source": [
    "# Predict on test set and print evaluation metric\n",
    "y0_predict = lin_reg.predict(X0_test)\n",
    "print(evaluation_metric(y0_test, y0_predict))"
   ]
  }
 ],
 "metadata": {
  "kernelspec": {
   "display_name": "Python 3",
   "language": "python",
   "name": "python3"
  },
  "language_info": {
   "codemirror_mode": {
    "name": "ipython",
    "version": 3
   },
   "file_extension": ".py",
   "mimetype": "text/x-python",
   "name": "python",
   "nbconvert_exporter": "python",
   "pygments_lexer": "ipython3",
   "version": "3.7.10"
  }
 },
 "nbformat": 4,
 "nbformat_minor": 4
}
